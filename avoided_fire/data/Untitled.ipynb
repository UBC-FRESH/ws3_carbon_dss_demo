{
 "cells": [
  {
   "cell_type": "code",
   "execution_count": 1,
   "id": "1dd729d5-4e25-4ad6-bda4-880062d46276",
   "metadata": {},
   "outputs": [],
   "source": [
    "import pickle"
   ]
  },
  {
   "cell_type": "code",
   "execution_count": 2,
   "id": "0560ca46-4aa0-4b56-87b4-df527bfbe2bc",
   "metadata": {},
   "outputs": [],
   "source": [
    "with open('cbm_output_rep_pickle.pkl','rb') as f:\n",
    "    loaded_data=pickle.load(f)"
   ]
  },
  {
   "cell_type": "code",
   "execution_count": 3,
   "id": "7d5131a2-1a8b-49c2-975c-e8b1dae1fa3c",
   "metadata": {},
   "outputs": [
    {
     "name": "stdout",
     "output_type": "stream",
     "text": [
      "[      Total emission\n",
      "Year                \n",
      "0           0.000000\n",
      "1       -4981.375981\n",
      "2       -4989.400345\n",
      "3       -4868.615751\n",
      "4       -4857.955494\n",
      "...              ...\n",
      "96       -689.535356\n",
      "97       -890.927423\n",
      "98       -904.422278\n",
      "99      -1047.979933\n",
      "100     21283.756683\n",
      "\n",
      "[101 rows x 1 columns],       Total emission\n",
      "Year                \n",
      "0           0.000000\n",
      "1       -4981.375981\n",
      "2       -4989.400345\n",
      "3       -4868.615751\n",
      "4       -4857.955494\n",
      "...              ...\n",
      "96       -755.206283\n",
      "97       -927.869932\n",
      "98       -994.573760\n",
      "99      -1129.659080\n",
      "100     20270.672896\n",
      "\n",
      "[101 rows x 1 columns],       Total emission\n",
      "Year                \n",
      "0           0.000000\n",
      "1       -4981.375981\n",
      "2       -4989.400345\n",
      "3       -4868.615751\n",
      "4       -4857.955494\n",
      "...              ...\n",
      "96      -1472.872876\n",
      "97      -1566.765580\n",
      "98      -1546.850247\n",
      "99      -1612.420261\n",
      "100      9825.167537\n",
      "\n",
      "[101 rows x 1 columns],       Total emission\n",
      "Year                \n",
      "0           0.000000\n",
      "1       -4981.375981\n",
      "2       -4989.400345\n",
      "3       -4868.615751\n",
      "4       -4857.955494\n",
      "...              ...\n",
      "96      -1463.917772\n",
      "97      -1556.978156\n",
      "98      -1535.483383\n",
      "99      -1600.288469\n",
      "100      9425.396279\n",
      "\n",
      "[101 rows x 1 columns],       Total emission\n",
      "Year                \n",
      "0           0.000000\n",
      "1       -4981.375981\n",
      "2       -4989.400345\n",
      "3       -4868.615751\n",
      "4       -4857.955494\n",
      "...              ...\n",
      "96      -2238.189601\n",
      "97      -2222.335388\n",
      "98      -2165.285205\n",
      "99      -2150.804963\n",
      "100     -2127.888248\n",
      "\n",
      "[101 rows x 1 columns],       Total emission\n",
      "Year                \n",
      "0           0.000000\n",
      "1       -4981.375981\n",
      "2       -4989.400345\n",
      "3       -4868.615751\n",
      "4       -4857.955494\n",
      "...              ...\n",
      "96      -2238.189601\n",
      "97      -2222.335388\n",
      "98      -2165.285205\n",
      "99      -2150.804963\n",
      "100     -2127.888248\n",
      "\n",
      "[101 rows x 1 columns]]\n"
     ]
    }
   ],
   "source": [
    "print(loaded_data)"
   ]
  },
  {
   "cell_type": "code",
   "execution_count": 4,
   "id": "089b0283-93c4-49dc-9624-42206db3f1b0",
   "metadata": {},
   "outputs": [
    {
     "data": {
      "text/plain": [
       "6"
      ]
     },
     "execution_count": 4,
     "metadata": {},
     "output_type": "execute_result"
    }
   ],
   "source": [
    "len(loaded_data)"
   ]
  },
  {
   "cell_type": "code",
   "execution_count": 8,
   "id": "4470e71e-76a7-48a4-b27d-4a824cb7bc52",
   "metadata": {},
   "outputs": [],
   "source": [
    "n_rep = 2"
   ]
  },
  {
   "cell_type": "code",
   "execution_count": 11,
   "id": "02a4ad66-2891-49d0-9598-4d0b6cc17129",
   "metadata": {},
   "outputs": [
    {
     "data": {
      "text/plain": [
       "4.0"
      ]
     },
     "execution_count": 11,
     "metadata": {},
     "output_type": "execute_result"
    }
   ],
   "source": [
    "(len(loaded_data)/n_rep) + 1"
   ]
  },
  {
   "cell_type": "code",
   "execution_count": 5,
   "id": "020c87a7-867d-41f5-abc4-6f8f668d3a63",
   "metadata": {},
   "outputs": [
    {
     "data": {
      "text/html": [
       "<div>\n",
       "<style scoped>\n",
       "    .dataframe tbody tr th:only-of-type {\n",
       "        vertical-align: middle;\n",
       "    }\n",
       "\n",
       "    .dataframe tbody tr th {\n",
       "        vertical-align: top;\n",
       "    }\n",
       "\n",
       "    .dataframe thead th {\n",
       "        text-align: right;\n",
       "    }\n",
       "</style>\n",
       "<table border=\"1\" class=\"dataframe\">\n",
       "  <thead>\n",
       "    <tr style=\"text-align: right;\">\n",
       "      <th></th>\n",
       "      <th>Total emission</th>\n",
       "    </tr>\n",
       "    <tr>\n",
       "      <th>Year</th>\n",
       "      <th></th>\n",
       "    </tr>\n",
       "  </thead>\n",
       "  <tbody>\n",
       "    <tr>\n",
       "      <th>0</th>\n",
       "      <td>0.000000</td>\n",
       "    </tr>\n",
       "    <tr>\n",
       "      <th>1</th>\n",
       "      <td>-4981.375981</td>\n",
       "    </tr>\n",
       "    <tr>\n",
       "      <th>2</th>\n",
       "      <td>-4989.400345</td>\n",
       "    </tr>\n",
       "    <tr>\n",
       "      <th>3</th>\n",
       "      <td>-4868.615751</td>\n",
       "    </tr>\n",
       "    <tr>\n",
       "      <th>4</th>\n",
       "      <td>-4857.955494</td>\n",
       "    </tr>\n",
       "    <tr>\n",
       "      <th>...</th>\n",
       "      <td>...</td>\n",
       "    </tr>\n",
       "    <tr>\n",
       "      <th>96</th>\n",
       "      <td>-689.535356</td>\n",
       "    </tr>\n",
       "    <tr>\n",
       "      <th>97</th>\n",
       "      <td>-890.927423</td>\n",
       "    </tr>\n",
       "    <tr>\n",
       "      <th>98</th>\n",
       "      <td>-904.422278</td>\n",
       "    </tr>\n",
       "    <tr>\n",
       "      <th>99</th>\n",
       "      <td>-1047.979933</td>\n",
       "    </tr>\n",
       "    <tr>\n",
       "      <th>100</th>\n",
       "      <td>21283.756683</td>\n",
       "    </tr>\n",
       "  </tbody>\n",
       "</table>\n",
       "<p>101 rows × 1 columns</p>\n",
       "</div>"
      ],
      "text/plain": [
       "      Total emission\n",
       "Year                \n",
       "0           0.000000\n",
       "1       -4981.375981\n",
       "2       -4989.400345\n",
       "3       -4868.615751\n",
       "4       -4857.955494\n",
       "...              ...\n",
       "96       -689.535356\n",
       "97       -890.927423\n",
       "98       -904.422278\n",
       "99      -1047.979933\n",
       "100     21283.756683\n",
       "\n",
       "[101 rows x 1 columns]"
      ]
     },
     "execution_count": 5,
     "metadata": {},
     "output_type": "execute_result"
    }
   ],
   "source": [
    "loaded_data[0]"
   ]
  },
  {
   "cell_type": "code",
   "execution_count": 6,
   "id": "2045bbe4-22bc-44f4-96a7-9b4ed09fda3e",
   "metadata": {},
   "outputs": [
    {
     "data": {
      "text/plain": [
       "[      Total emission\n",
       " Year                \n",
       " 0           0.000000\n",
       " 1       -4981.375981\n",
       " 2       -4989.400345\n",
       " 3       -4868.615751\n",
       " 4       -4857.955494\n",
       " ...              ...\n",
       " 96      -1472.872876\n",
       " 97      -1566.765580\n",
       " 98      -1546.850247\n",
       " 99      -1612.420261\n",
       " 100      9825.167537\n",
       " \n",
       " [101 rows x 1 columns],\n",
       "       Total emission\n",
       " Year                \n",
       " 0           0.000000\n",
       " 1       -4981.375981\n",
       " 2       -4989.400345\n",
       " 3       -4868.615751\n",
       " 4       -4857.955494\n",
       " ...              ...\n",
       " 96      -1463.917772\n",
       " 97      -1556.978156\n",
       " 98      -1535.483383\n",
       " 99      -1600.288469\n",
       " 100      9425.396279\n",
       " \n",
       " [101 rows x 1 columns]]"
      ]
     },
     "execution_count": 6,
     "metadata": {},
     "output_type": "execute_result"
    }
   ],
   "source": [
    "loaded_data[2:4]"
   ]
  },
  {
   "cell_type": "code",
   "execution_count": 7,
   "id": "0296b051-a48d-4dbf-b484-bb9daea16936",
   "metadata": {},
   "outputs": [
    {
     "ename": "NameError",
     "evalue": "name 'iter_intensity' is not defined",
     "output_type": "error",
     "traceback": [
      "\u001b[0;31m---------------------------------------------------------------------------\u001b[0m",
      "\u001b[0;31mNameError\u001b[0m                                 Traceback (most recent call last)",
      "Cell \u001b[0;32mIn[7], line 1\u001b[0m\n\u001b[0;32m----> 1\u001b[0m \u001b[43miter_intensity\u001b[49m[\u001b[38;5;241m0\u001b[39m]\n",
      "\u001b[0;31mNameError\u001b[0m: name 'iter_intensity' is not defined"
     ]
    }
   ],
   "source": [
    "iter_intensity[0]"
   ]
  },
  {
   "cell_type": "code",
   "execution_count": null,
   "id": "aed13d9c-770e-4442-99d4-60f08192236e",
   "metadata": {},
   "outputs": [],
   "source": [
    "loaded_data[0]"
   ]
  },
  {
   "cell_type": "code",
   "execution_count": null,
   "id": "2d230233-1117-45cf-b400-717a8ee51c06",
   "metadata": {},
   "outputs": [],
   "source": [
    "loaded_data[2]"
   ]
  },
  {
   "cell_type": "code",
   "execution_count": null,
   "id": "257ef78f-2212-40b5-87ad-ee47fb9eac55",
   "metadata": {},
   "outputs": [],
   "source": [
    "loaded_data[2]['Total emission']"
   ]
  },
  {
   "cell_type": "code",
   "execution_count": null,
   "id": "35bad48b-58a8-47ac-87c9-09ba44d9b2fe",
   "metadata": {},
   "outputs": [],
   "source": [
    "n_rep = 2"
   ]
  },
  {
   "cell_type": "code",
   "execution_count": null,
   "id": "c5c69bd4-2662-47e2-9ae5-a68d09968a8f",
   "metadata": {},
   "outputs": [],
   "source": [
    "iter_intensity = 1\n"
   ]
  },
  {
   "cell_type": "code",
   "execution_count": null,
   "id": "7a2b3a3b-9961-4a31-9e08-dd6bdde2f9e5",
   "metadata": {},
   "outputs": [],
   "source": [
    "loaded_data[(iter_intensity-1) * n_rep]['Total emission']"
   ]
  },
  {
   "cell_type": "code",
   "execution_count": null,
   "id": "5e4d7141-0f8b-4082-a640-0a99dc2c9472",
   "metadata": {},
   "outputs": [],
   "source": [
    "loaded_data[0]['Total emission']"
   ]
  },
  {
   "cell_type": "code",
   "execution_count": null,
   "id": "a82be619-9769-4a2d-98dd-7fe3ec1fa9a1",
   "metadata": {},
   "outputs": [],
   "source": []
  }
 ],
 "metadata": {
  "kernelspec": {
   "display_name": "Python 3 (venv:foo)",
   "language": "python",
   "name": "foo"
  },
  "language_info": {
   "codemirror_mode": {
    "name": "ipython",
    "version": 3
   },
   "file_extension": ".py",
   "mimetype": "text/x-python",
   "name": "python",
   "nbconvert_exporter": "python",
   "pygments_lexer": "ipython3",
   "version": "3.10.12"
  }
 },
 "nbformat": 4,
 "nbformat_minor": 5
}
