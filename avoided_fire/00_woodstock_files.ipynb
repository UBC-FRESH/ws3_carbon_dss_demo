{
 "cells": [
  {
   "cell_type": "markdown",
   "id": "2952d534-038b-4367-9b3f-7603076adc1e",
   "metadata": {},
   "source": [
    "# Overview\n",
    "\n",
    "This notebook imports raw ws3 input data, reformats and monkey-patches the data, and exports Woodstock formatted input data files (which we will use in other DSS notebooks for this case as the input data files). "
   ]
  },
  {
   "cell_type": "markdown",
   "id": "59e8c11e-dbc1-48f1-996c-4109720d5efe",
   "metadata": {},
   "source": [
    "# Set up environment"
   ]
  },
  {
   "cell_type": "code",
   "execution_count": 33,
   "id": "2f49e412-0429-4b54-aa90-b3b1ce485693",
   "metadata": {
    "jupyter": {
     "source_hidden": true
    },
    "tags": []
   },
   "outputs": [
    {
     "name": "stdout",
     "output_type": "stream",
     "text": [
      "The autoreload extension is already loaded. To reload it, use:\n",
      "  %reload_ext autoreload\n"
     ]
    }
   ],
   "source": [
    "%load_ext autoreload\n",
    "%autoreload 2"
   ]
  },
  {
   "cell_type": "code",
   "execution_count": 34,
   "id": "23141f45-1925-43df-8bd4-0dfe8c3fc8c6",
   "metadata": {
    "tags": []
   },
   "outputs": [],
   "source": [
    "import matplotlib.pyplot as plt\n",
    "import pandas as pd\n",
    "import geopandas as gpd\n",
    "import ws3.forest, ws3.core\n",
    "import csv\n",
    "import numpy as np\n",
    "from util import schedule_harvest_areacontrol, schedule_harvest_areacontrol_asap, schedule_harvest_areacontrol_null"
   ]
  },
  {
   "cell_type": "markdown",
   "id": "3dd44bc0-6b66-4dd1-9137-8ab51ec3b6b0",
   "metadata": {},
   "source": [
    "Define some key model parameters (will get used but defined here up top for convenience)."
   ]
  },
  {
   "cell_type": "code",
   "execution_count": 35,
   "id": "1e46e712-2b73-41ee-bdb7-767683a16d92",
   "metadata": {
    "tags": []
   },
   "outputs": [],
   "source": [
    "period_length = 10\n",
    "max_age =  1000"
   ]
  },
  {
   "cell_type": "markdown",
   "id": "ab22316a-e1b1-4aff-8cb7-acdb520e985d",
   "metadata": {},
   "source": [
    "# Import and reformat inventory and yield input data"
   ]
  },
  {
   "cell_type": "markdown",
   "id": "5167c8e8-ac87-4e9d-9a18-06d967d7949a",
   "metadata": {},
   "source": [
    "Read forest inventory data into memory (vector polygon GIS data layer with attribute table, in ESRI Shapefile format). This dataset represents a small subset of timber supply area (TSA) 22 in British Columbia. We monkey-patch the inventory data here to make it line up nicely with what we need downstream as input for the ws3 model (i.e., changes we make here to the in-memory dataset are not saved to the original dataset on disk). Most of what we are doing here is setting up the _theme_ columns in the attribute table, which should help newer ws3 users make the connection between input data and the landscape themes in ws3 model further down."
   ]
  },
  {
   "cell_type": "code",
   "execution_count": 36,
   "id": "15f617e9-1d23-4e80-9bf1-b77f2dcab25e",
   "metadata": {
    "tags": []
   },
   "outputs": [],
   "source": [
    "stands = gpd.read_file('data/tsa22_subset/stands.shp')\n",
    "stands = stands.rename(columns={'thlb':'theme1', 'au':'theme2', 'ldspp':'theme3', 'age2015':'age', 'shape_area':'area' })\n",
    "stands['area'] = stands.geometry.area * 0.0001 # monkey-patch broken area attribute\n",
    "stands.insert(4, 'theme4', stands['theme2'])\n",
    "stands['theme2'] = stands['theme2'].astype(int)"
   ]
  },
  {
   "cell_type": "markdown",
   "id": "7dde6cfb-149a-412f-a150-265f2f18c47c",
   "metadata": {},
   "source": [
    "Read yield data from a CSV file and recast AU column data type to integer."
   ]
  },
  {
   "cell_type": "code",
   "execution_count": 37,
   "id": "34ad5570-6e27-439a-917e-c646c1f2bee9",
   "metadata": {
    "tags": []
   },
   "outputs": [],
   "source": [
    "yld = pd.read_csv('data/yld.csv')\n",
    "yld['AU'] = yld['AU'].astype(int)"
   ]
  },
  {
   "cell_type": "markdown",
   "id": "c744ac82-6f68-4c3a-8ae6-9ab7816af43c",
   "metadata": {},
   "source": [
    "Create analysis unit (AU) dataframe from stands dataframe data."
   ]
  },
  {
   "cell_type": "code",
   "execution_count": 38,
   "id": "aa76a9f6-1e84-49c7-b8e2-ad45ae938613",
   "metadata": {
    "tags": []
   },
   "outputs": [],
   "source": [
    "AU = pd.DataFrame(stands['theme2']).drop_duplicates()\n",
    "AU.rename(columns={'theme2':'AU'}, inplace=True)"
   ]
  },
  {
   "cell_type": "markdown",
   "id": "de8f1deb-4de4-41ef-ace3-a49e5c10b5e1",
   "metadata": {},
   "source": [
    "Join `AU` and `yld` dataframes."
   ]
  },
  {
   "cell_type": "code",
   "execution_count": 39,
   "id": "7280c970-ea89-42fd-9d81-cc9507c9edd3",
   "metadata": {
    "tags": []
   },
   "outputs": [],
   "source": [
    "yldmerged = pd.merge(AU, yld, on=['AU'], how='inner')"
   ]
  },
  {
   "cell_type": "markdown",
   "id": "9b8c9eb4-ad99-44e5-9479-42c2f5464d83",
   "metadata": {},
   "source": [
    "Import CANFI tree species lookup table (associates tree species names with integer numerical values, which we use as theme data values in the ws3 model), and insert species code values into the yield curve dataframe."
   ]
  },
  {
   "cell_type": "code",
   "execution_count": 40,
   "id": "80d9e57c-00fa-4864-b2bf-af0b7b361baa",
   "metadata": {
    "tags": []
   },
   "outputs": [],
   "source": [
    "canf = pd.read_csv('data/canfi_species_modified.csv')\n",
    "canf = canf[['name', 'canfi_species']].set_index('name')"
   ]
  },
  {
   "cell_type": "markdown",
   "id": "192ec296-4667-42dd-af20-2489ccfde299",
   "metadata": {},
   "source": [
    "Burn CANFI species codes into stand and yield data tables."
   ]
  },
  {
   "cell_type": "code",
   "execution_count": 41,
   "id": "54bed323-8533-4f06-98f9-c54b2bd53861",
   "metadata": {},
   "outputs": [],
   "source": [
    "stands['theme3'] = stands.apply(lambda row: canf.loc[row['theme3'], 'canfi_species'], axis=1) \n",
    "yldmerged['canfi_species'] = yldmerged.apply(lambda row: canf.loc[row['LDSPP'], 'canfi_species'], axis=1)"
   ]
  },
  {
   "cell_type": "markdown",
   "id": "27339769-c706-40d4-9713-8719af8e35c5",
   "metadata": {},
   "source": [
    "Add a new `curve_id` colume that has same data values as `AU` column."
   ]
  },
  {
   "cell_type": "code",
   "execution_count": 42,
   "id": "71de783f-3fe3-4815-a6fa-b4249aa3da67",
   "metadata": {
    "tags": []
   },
   "outputs": [],
   "source": [
    "yldmerged['curve_id'] = yldmerged['AU'] "
   ]
  },
  {
   "cell_type": "markdown",
   "id": "bd383027-0115-4db1-8c79-5fae21f12f10",
   "metadata": {},
   "source": [
    "Save reformatted data to CSV files. "
   ]
  },
  {
   "cell_type": "code",
   "execution_count": 43,
   "id": "37f92c80-5dbf-4654-9bd8-69b6b8d4d612",
   "metadata": {
    "tags": []
   },
   "outputs": [],
   "source": [
    "yldmerged.to_csv('data/yldmerged.csv', header=True, index=False)\n",
    "stands.to_csv('data/stands_table.csv', header=True, index=False)"
   ]
  },
  {
   "cell_type": "markdown",
   "id": "936c94ba-1e79-44f5-ac6c-e3869dfe7972",
   "metadata": {},
   "source": [
    "Rename stuff to match variable names we expect further down."
   ]
  },
  {
   "cell_type": "code",
   "execution_count": 44,
   "id": "2bfe0e7d-f196-4b29-9f5c-98ab933e0a11",
   "metadata": {
    "tags": []
   },
   "outputs": [],
   "source": [
    "stands_table = stands\n",
    "curve_points_table = yldmerged\n",
    "curve_points_table.set_index('AU', inplace=True)"
   ]
  },
  {
   "cell_type": "markdown",
   "id": "e4ae9b50-8010-437b-940e-5635d86bf71c",
   "metadata": {},
   "source": [
    "## LANDSCAPE section\n",
    "\n",
    "The LANDSCAPE section defines stratification variables (themes) and stratification variable values (basecodes). "
   ]
  },
  {
   "cell_type": "code",
   "execution_count": 53,
   "id": "24bc71ff-0133-4700-aa1f-8b91dea4b715",
   "metadata": {},
   "outputs": [],
   "source": [
    "theme_cols=['theme0', # TSA \n",
    "            'theme1', # THLB\n",
    "            'theme2', # AU\n",
    "            'theme3', # leading species code\n",
    "            'theme4'  # yield curve ID\n",
    "           ]\n",
    "basecodes = [list(map(lambda x: str(x), stands_table[tc].unique())) for tc in theme_cols]\n",
    "basecodes[2] = list(set(basecodes[2] + list(stands_table['theme2'].astype(str))))\n",
    "basecodes[3] = list(set(basecodes[3] + list(stands_table['theme3'].astype(str))))\n",
    "basecodes[4] = list(set(basecodes[4] + list(stands_table['theme4'].astype(str))))"
   ]
  },
  {
   "cell_type": "code",
   "execution_count": 54,
   "id": "abe578c5-d0d1-4f04-8614-0e31f52eae7c",
   "metadata": {},
   "outputs": [],
   "source": [
    "with open('data/woodstock_model_files/tsa22.lan', 'w') as file:\n",
    "    print('*THEME Timber Supply Area (TSA)', file=file)\n",
    "    print('tsa17',file=file)\n",
    "    print('*THEME Timber Harvesting Land Base (THLB)', file=file)\n",
    "    for basecode in basecodes[1]: print(basecode, file=file)\n",
    "    print('*THEME Analysis Unit (AU)', file=file)\n",
    "    for basecode in basecodes[2]: print(basecode, file=file)\n",
    "    print('*THEME Leading tree species (CANFI species code)', file=file)\n",
    "    for basecode in basecodes[3]: print(basecode, file=file)\n",
    "    print('*THEME Yield curve ID', file=file)\n",
    "    for basecode in basecodes[4]: print(basecode, file=file)"
   ]
  },
  {
   "cell_type": "markdown",
   "id": "4c33e6ce-3a8d-41f3-be89-3e6f3dc28a5c",
   "metadata": {},
   "source": [
    "## AREAS section\n",
    "\n",
    "The AREAS section defines the initial forest inventory, in terms of how many hectares of which age class are present in which development type (where a development type is defined as a unique sequence of landscape theme variable values)."
   ]
  },
  {
   "cell_type": "code",
   "execution_count": 55,
   "id": "8f7d68eb-a8e0-49d3-b139-20062443d54d",
   "metadata": {},
   "outputs": [],
   "source": [
    "gstands = stands_table.groupby(theme_cols+['age'])"
   ]
  },
  {
   "cell_type": "code",
   "execution_count": 56,
   "id": "cfbc9d93-bbee-4546-8a25-3c53db47d2b8",
   "metadata": {},
   "outputs": [],
   "source": [
    "with open('data/woodstock_model_files/tsa22.are', 'w') as file:\n",
    "    for name, group in gstands:\n",
    "        dtk, age, area = tuple(map(lambda x: str(x), name[:-1])), int(name[-1]), group['area'].sum()\n",
    "        print('*A', ' '.join(v for v in dtk), age, area, file=file)"
   ]
  },
  {
   "cell_type": "markdown",
   "id": "171d187d-287b-4a08-a07e-d7d9baa9c684",
   "metadata": {},
   "source": [
    "## YIELDS section\n",
    "\n",
    "The YIELDS section defines yield curves (in this example we only track merchantable log volume, but we can use yield curves to track all sorts of other stuff). "
   ]
  },
  {
   "cell_type": "code",
   "execution_count": 57,
   "id": "18da4eb7-2520-459c-933b-3f578456bbfe",
   "metadata": {},
   "outputs": [],
   "source": [
    "with open('data/woodstock_model_files/tsa22.yld', 'w') as file:\n",
    "        tot=[]\n",
    "        swd=[]\n",
    "        hwd=[]\n",
    "        for AU, au_row in curve_points_table.iterrows():\n",
    "            yname = 's%04d' % int(au_row.canfi_species)    \n",
    "            curve_id = au_row.curve_id\n",
    "            mask = ('?', '?', str(AU), '?', str(curve_id))\n",
    "            points = [(x*10, au_row['X%i' % (x*10)]) for x in range(36)]\n",
    "            c = ws3.core.Curve(yname, points=points, type='a', is_volume=True, xmax=max_age, period_length=period_length)\n",
    "            print('*Y', ' '.join(v for v in mask), file=file)\n",
    "            print(yname, '1', ' '.join(str(int(c[x])) for x in range(0, 350, 10)), file=file)\n",
    "            if yname not in tot:\n",
    "                tot.append(yname)\n",
    "            if int(au_row.canfi_species) > 1200:\n",
    "                if yname not in hwd: hwd.append(yname)\n",
    "            else:\n",
    "                if yname not in swd: swd.append(yname)\n",
    "        print('*YC ? ? ? ? ?', file=file)\n",
    "        print('totvol _SUM(%s)' % ', '.join(map(str, tot)), file=file)\n",
    "        print('swdvol _SUM(%s)' % ', '.join(map(str, swd)), file=file)\n",
    "        print('hwdvol _SUM(%s)' % ', '.join(map(str, hwd)), file=file)"
   ]
  },
  {
   "cell_type": "markdown",
   "id": "06601d33-b6bd-4e9a-a85e-426bbb9e97fd",
   "metadata": {},
   "source": [
    "## ACTIONS section\n",
    "\n",
    "The ACTIONS section defines actions that can be applied in the model (e.g., harvesting, planting, thinning, fertilization, etc). "
   ]
  },
  {
   "cell_type": "code",
   "execution_count": 58,
   "id": "7aca0ce5-7f78-4ebe-8c9c-7067541e3771",
   "metadata": {},
   "outputs": [],
   "source": [
    "with open('data/woodstock_model_files/tsa22.act', 'w') as file:\n",
    "    print('ACTIONS', file=file)\n",
    "    print('*ACTION harvest Y', file=file)\n",
    "    print('*OPERABLE harvest', file=file)\n",
    "    print('? 1 ? ? ? _AGE >= 90 AND _AGE <= 600', file=file)"
   ]
  },
  {
   "cell_type": "markdown",
   "id": "9db17c19-9b28-47c1-885c-4ae65389382a",
   "metadata": {},
   "source": [
    "## TRANSITIONS section\n",
    "\n",
    "The TRANSITIONS section defines transitions (i.e., transition to a new development type and age class induced by applying a specific action to a specific combination of development type and age class). If there were no transitions in a forest estate model, it would simply be aging (i.e., growing) the forest forward from time step 1 through to time step N."
   ]
  },
  {
   "cell_type": "code",
   "execution_count": 59,
   "id": "18f062ec-21e5-4b2d-8c4a-f0d926d9480c",
   "metadata": {},
   "outputs": [],
   "source": [
    "with open('data/woodstock_model_files/tsa22.trn', 'w') as file:\n",
    "    acode = 'harvest'\n",
    "    print('*CASE', acode, file=file)\n",
    "    record_au = set()\n",
    "    for au_id, au_row in stands_table.iterrows():\n",
    "        if au_row.theme2 in record_au: continue\n",
    "        if not au_row.theme1: continue\n",
    "        target_curve_id = au_row.theme4  \n",
    "        smask = ' '.join(('?', '?' , str(target_curve_id), '?', '?'))\n",
    "        tmask = ' '.join(('?', '?' , '?', '?', str(target_curve_id)))\n",
    "        print('*SOURCE', smask, file=file)\n",
    "        print('*TARGET', tmask, '100', file=file)\n",
    "        record_au.add(au_row.theme2)"
   ]
  },
  {
   "cell_type": "code",
   "execution_count": null,
   "id": "980a7d47-17d3-4551-991a-2e5d639fa220",
   "metadata": {},
   "outputs": [],
   "source": []
  },
  {
   "cell_type": "code",
   "execution_count": null,
   "id": "6cfdec15-c218-44ba-9914-b394f4fc988f",
   "metadata": {},
   "outputs": [],
   "source": []
  },
  {
   "cell_type": "markdown",
   "id": "4a1cedd2-6aa2-492d-b3a2-2f9d3f5e591e",
   "metadata": {},
   "source": [
    "# Export Woodstock-formatted input files "
   ]
  },
  {
   "cell_type": "markdown",
   "id": "9683c6c4-9313-437b-ba2f-7e9fc498b91b",
   "metadata": {},
   "source": [
    "We can use the new ws3 model instance we just built to export ws3 input files in Woodstock file format. We do this for three reasons. \n",
    "\n",
    "The first reason is that it will be simpler and more compact in the actual DSS notebook to instantiate the `ForestModel` object from these Woodstock-formatted files (and also this will provide an opportunity to demonstrate the existance and usage of the Woodstock model import functions that are built into ws3). \n",
    "\n",
    "The second reason is that the process of exporting data from a live `ws3.forest.ForestModel` instance to Woodstock-formatted input data files provides some insight into the internal structure and workings of ws3 models (which can be a challenging thing to get started with, particularly if you do not have a lot of experience building and running forest estate models). \n",
    "\n",
    "The third reason is that Woodstock file format is designed to be \"human readable\" (sort of... nobody ever said it would be super easy or super fun). Picking through the exported Woodstock-formatted files might help some people better understand the structure and details of the model we have built. If you have no experience reading Woodstock-formatted model input data files, then this is going to be trickier (unless you pause here and go take an introductory Woodstock training course of sort). Many forest professionals already have familiarity with Woodstock software and its special file format (through having been exposed to this at some point in their career). "
   ]
  },
  {
   "cell_type": "markdown",
   "id": "165c2463-6bd1-4f48-9be6-e9a4621281c7",
   "metadata": {},
   "source": [
    "Start by creating a new subdirectory to hold the new Woodstock-formatted data files."
   ]
  },
  {
   "cell_type": "code",
   "execution_count": 13,
   "id": "9c020155-9642-42ed-9519-f0aaa9985648",
   "metadata": {
    "tags": []
   },
   "outputs": [
    {
     "name": "stdout",
     "output_type": "stream",
     "text": [
      "mkdir: cannot create directory ‘data/woodstock_model_files’: File exists\n"
     ]
    }
   ],
   "source": [
    "!mkdir data/woodstock_model_files"
   ]
  },
  {
   "cell_type": "markdown",
   "id": "29cc5229-5643-44e7-a872-4031a0f535e0",
   "metadata": {},
   "source": [
    "## LANDSCAPE section\n",
    "\n",
    "The LANDSCAPE section defines stratification variables (themes) and stratification variable values (basecodes). "
   ]
  },
  {
   "cell_type": "code",
   "execution_count": 14,
   "id": "30717fff-79f5-4b46-8a3a-ffadea779386",
   "metadata": {},
   "outputs": [],
   "source": [
    "theme_cols=['theme0', # TSA \n",
    "            'theme1', # THLB\n",
    "            'theme2', # AU\n",
    "            'theme3', # leading species code\n",
    "            'theme4'  # yield curve ID\n",
    "           ]\n",
    "basecodes = [list(map(lambda x: str(x), stands_table[tc].unique())) for tc in theme_cols]\n",
    "basecodes[2] = list(set(basecodes[2] + list(stands_table['theme2'].astype(str))))\n",
    "basecodes[3] = list(set(basecodes[3] + list(stands_table['theme3'].astype(str))))\n",
    "basecodes[4] = list(set(basecodes[4] + list(stands_table['theme4'].astype(str))))"
   ]
  },
  {
   "cell_type": "code",
   "execution_count": 15,
   "id": "ab4e1957-6ebd-47ab-aa3e-bff2c2ab78f0",
   "metadata": {},
   "outputs": [],
   "source": [
    "with open('data/woodstock_model_files/tsa17.lan', 'w') as file:\n",
    "    print('*THEME Timber Supply Area (TSA)', file=file)\n",
    "    print('tsa17',file=file)\n",
    "    print('*THEME Timber Harvesting Land Base (THLB)', file=file)\n",
    "    for basecode in basecodes[1]: print(basecode, file=file)\n",
    "    print('*THEME Analysis Unit (AU)', file=file)\n",
    "    for basecode in basecodes[2]: print(basecode, file=file)\n",
    "    print('*THEME Leading tree species (CANFI species code)', file=file)\n",
    "    for basecode in basecodes[3]: print(basecode, file=file)\n",
    "    print('*THEME Yield curve ID', file=file)\n",
    "    for basecode in basecodes[4]: print(basecode, file=file)"
   ]
  },
  {
   "cell_type": "markdown",
   "id": "ad7bdaf9-e12f-4d7f-9614-fea6953b7a70",
   "metadata": {},
   "source": [
    "## AREAS section\n",
    "\n",
    "The AREAS section defines the initial forest inventory, in terms of how many hectares of which age class are present in which development type (where a development type is defined as a unique sequence of landscape theme variable values)."
   ]
  },
  {
   "cell_type": "code",
   "execution_count": 16,
   "id": "5ac4c7ca-3404-4eb8-accb-a440dc2490bf",
   "metadata": {},
   "outputs": [],
   "source": [
    "gstands = stands_table.groupby(theme_cols+['age'])"
   ]
  },
  {
   "cell_type": "code",
   "execution_count": 17,
   "id": "b2c3f44f-0a84-43b7-a13d-db7dda4342da",
   "metadata": {},
   "outputs": [],
   "source": [
    "with open('data/woodstock_model_files/tsa17.are', 'w') as file:\n",
    "    for name, group in gstands:\n",
    "        dtk, age, area = tuple(map(lambda x: str(x), name[:-1])), int(name[-1]), group['area'].sum()\n",
    "        print('*A', ' '.join(v for v in dtk), age, area, file=file)"
   ]
  },
  {
   "cell_type": "markdown",
   "id": "0cbc58db-0ed1-45da-8165-4152a4ad2f60",
   "metadata": {},
   "source": [
    "## YIELDS section\n",
    "\n",
    "The YIELDS section defines yield curves (in this example we only track merchantable log volume, but we can use yield curves to track all sorts of other stuff). "
   ]
  },
  {
   "cell_type": "code",
   "execution_count": 25,
   "id": "b7e26ee4-9770-4715-b93d-1ee46c3bd1bb",
   "metadata": {},
   "outputs": [],
   "source": [
    "with open('data/woodstock_model_files/tsa17.yld', 'w') as file:\n",
    "        tot=[]\n",
    "        swd=[]\n",
    "        hwd=[]\n",
    "        for AU, au_row in curve_points_table.iterrows():\n",
    "            yname = 's%04d' % int(au_row.canfi_species)    \n",
    "            curve_id = au_row.curve_id\n",
    "            mask = ('?', '?', str(AU), '?', str(curve_id))\n",
    "            points = [(x*10, au_row['X%i' % (x*10)]) for x in range(36)]\n",
    "            c = ws3.core.Curve(yname, points=points, type='a', is_volume=True, xmax=max_age, period_length=period_length)\n",
    "            print('*Y', ' '.join(v for v in mask), file=file)\n",
    "            print(yname, '1', ' '.join(str(int(c[x])) for x in range(0, 350, 10)), file=file)\n",
    "            if yname not in tot:\n",
    "                tot.append(yname)\n",
    "            if int(au_row.canfi_species) > 1200:\n",
    "                if yname not in hwd: hwd.append(yname)\n",
    "            else:\n",
    "                if yname not in swd: swd.append(yname)\n",
    "        print('*YC ? ? ? ? ?', file=file)\n",
    "        print('totvol _SUM(%s)' % ', '.join(map(str, tot)), file=file)\n",
    "        print('swdvol _SUM(%s)' % ', '.join(map(str, swd)), file=file)\n",
    "        print('hwdvol _SUM(%s)' % ', '.join(map(str, hwd)), file=file)"
   ]
  },
  {
   "cell_type": "markdown",
   "id": "4cd641b3-d2cb-4239-898c-5d65521276f7",
   "metadata": {},
   "source": [
    "## ACTIONS section\n",
    "\n",
    "The ACTIONS section defines actions that can be applied in the model (e.g., harvesting, planting, thinning, fertilization, etc). "
   ]
  },
  {
   "cell_type": "code",
   "execution_count": 19,
   "id": "32c46b4d-471f-4038-92dd-48a0751d8019",
   "metadata": {},
   "outputs": [],
   "source": [
    "with open('data/woodstock_model_files/tsa17.act', 'w') as file:\n",
    "    print('ACTIONS', file=file)\n",
    "    print('*ACTION harvest Y', file=file)\n",
    "    print('*OPERABLE harvest', file=file)\n",
    "    print('? 1 ? ? ? _AGE >= 90 AND _AGE <= 600', file=file)"
   ]
  },
  {
   "cell_type": "markdown",
   "id": "2de0ae8e-5882-4248-b140-52db2b7ffb76",
   "metadata": {},
   "source": [
    "## TRANSITIONS section\n",
    "\n",
    "The TRANSITIONS section defines transitions (i.e., transition to a new development type and age class induced by applying a specific action to a specific combination of development type and age class). If there were no transitions in a forest estate model, it would simply be aging (i.e., growing) the forest forward from time step 1 through to time step N."
   ]
  },
  {
   "cell_type": "code",
   "execution_count": 20,
   "id": "9e3d3258-750c-4de4-a07e-bdf6d8206138",
   "metadata": {},
   "outputs": [],
   "source": [
    "with open('data/woodstock_model_files/tsa17.trn', 'w') as file:\n",
    "    acode = 'harvest'\n",
    "    print('*CASE', acode, file=file)\n",
    "    record_au = set()\n",
    "    for au_id, au_row in stands_table.iterrows():\n",
    "        if au_row.theme2 in record_au: continue\n",
    "        if not au_row.theme1: continue\n",
    "        target_curve_id = au_row.theme4  \n",
    "        smask = ' '.join(('?', '?' , str(target_curve_id), '?', '?'))\n",
    "        tmask = ' '.join(('?', '?' , '?', '?', str(target_curve_id)))\n",
    "        print('*SOURCE', smask, file=file)\n",
    "        print('*TARGET', tmask, '100', file=file)\n",
    "        record_au.add(au_row.theme2)"
   ]
  },
  {
   "cell_type": "code",
   "execution_count": null,
   "id": "5d90b689-2956-4e20-afcd-f652f42e9e7e",
   "metadata": {},
   "outputs": [],
   "source": []
  },
  {
   "cell_type": "code",
   "execution_count": null,
   "id": "bff5a284-96be-4acb-b346-1d2660160066",
   "metadata": {},
   "outputs": [],
   "source": []
  },
  {
   "cell_type": "code",
   "execution_count": null,
   "id": "b8cbc57a-86a1-4047-a172-ccde178ff7ce",
   "metadata": {},
   "outputs": [],
   "source": []
  },
  {
   "cell_type": "code",
   "execution_count": null,
   "id": "30e6acc3-4f32-4eed-8e43-617ffd8a7240",
   "metadata": {},
   "outputs": [],
   "source": []
  },
  {
   "cell_type": "code",
   "execution_count": null,
   "id": "25670811-1b02-4a67-99e9-71020983f640",
   "metadata": {},
   "outputs": [],
   "source": []
  },
  {
   "cell_type": "code",
   "execution_count": null,
   "id": "966be0c0-973d-43f1-9d5e-817da4b93fd1",
   "metadata": {},
   "outputs": [],
   "source": []
  },
  {
   "cell_type": "code",
   "execution_count": null,
   "id": "d4afc88a-082c-40f5-af25-7ba96c97d301",
   "metadata": {},
   "outputs": [],
   "source": []
  },
  {
   "cell_type": "code",
   "execution_count": null,
   "id": "171c4e1e-04ea-4024-8d3c-b193f2416c08",
   "metadata": {},
   "outputs": [],
   "source": []
  },
  {
   "cell_type": "code",
   "execution_count": null,
   "id": "80339262-5dc3-45f7-aef8-a9f73cd961ea",
   "metadata": {},
   "outputs": [],
   "source": []
  },
  {
   "cell_type": "code",
   "execution_count": 4,
   "id": "e72f3256-98ca-4358-a551-158f9389f48d",
   "metadata": {
    "tags": []
   },
   "outputs": [],
   "source": [
    "# Reading stands file\n",
    "stands = gpd.read_file('data/tsa22.shp/stands selection.shp') #ECCC TSA 22"
   ]
  },
  {
   "cell_type": "code",
   "execution_count": 5,
   "id": "525d9b53-e6b5-4f96-8206-d88f1e848d13",
   "metadata": {
    "tags": []
   },
   "outputs": [],
   "source": [
    "stands = stands.rename(columns={'thlb': 'theme1', 'au': 'theme2', 'ldspp': 'theme3', 'age2015': 'age', 'shape_area': 'area' })"
   ]
  },
  {
   "cell_type": "code",
   "execution_count": 6,
   "id": "837e90c3-d740-4447-8458-4502c3a2a698",
   "metadata": {
    "tags": []
   },
   "outputs": [],
   "source": [
    "# Fixing areas using geometry data (initially all areas were zero)\n",
    "stands['area'] = stands.geometry.area*0.0001\n"
   ]
  },
  {
   "cell_type": "code",
   "execution_count": 7,
   "id": "acf4cb94-a0ad-4653-a1c5-7f02a88e0353",
   "metadata": {
    "tags": []
   },
   "outputs": [],
   "source": [
    "# Adding theme 4 (which is curve_id) to the stands table\n",
    "stands.insert(4, 'theme4', stands['theme2'])"
   ]
  },
  {
   "cell_type": "markdown",
   "id": "865b585b-27c0-4e61-a169-728115cfac0e",
   "metadata": {},
   "source": [
    "##### Modified for TSA 22 (ECCC projetc) to extract the unique AU from yld.csv file "
   ]
  },
  {
   "cell_type": "code",
   "execution_count": 8,
   "id": "b63eb803-11c4-4b25-b011-22f06ac74f23",
   "metadata": {
    "tags": []
   },
   "outputs": [],
   "source": [
    "# This code changes the type of \"theme2\" into integer\n",
    "stands['theme2'] = stands['theme2'].astype(int)"
   ]
  },
  {
   "cell_type": "code",
   "execution_count": 9,
   "id": "8bfe3ec9",
   "metadata": {
    "tags": []
   },
   "outputs": [],
   "source": [
    "# Reading yld table and changing AU column type into integer\n",
    "yld = pd.read_csv('data/yld.csv')\n",
    "yld['AU'] = yld['AU'].astype(int)"
   ]
  },
  {
   "cell_type": "code",
   "execution_count": 10,
   "id": "21770298",
   "metadata": {
    "tags": []
   },
   "outputs": [],
   "source": [
    "# Creating AU table from stands table and renaming the column to AU. The AU table is then joined with yld table.\n",
    "AU = pd.DataFrame(stands['theme2']).drop_duplicates()\n",
    "AU.rename(columns = {'theme2':'AU'},inplace=True)"
   ]
  },
  {
   "cell_type": "code",
   "execution_count": 11,
   "id": "c20c4743",
   "metadata": {
    "tags": []
   },
   "outputs": [],
   "source": [
    "# Inner joining AU and yld tables. The results of the code will be a yield table (yldmerged) that has AU column.\n",
    "yldmerged = pd.merge(AU, yld, on=['AU'], how='inner')"
   ]
  },
  {
   "cell_type": "code",
   "execution_count": 12,
   "id": "ed7018d7",
   "metadata": {
    "tags": []
   },
   "outputs": [],
   "source": [
    "# Getting names and codes of canfi_species. This table will be used to add canfi_species column into yldmerged\n",
    "canf = pd.read_csv('data/canfi_species_modified.csv')\n",
    "canf = canf[['name','canfi_species']].set_index('name')"
   ]
  },
  {
   "cell_type": "code",
   "execution_count": 13,
   "id": "bdac9b42-15f9-42f8-82b1-8fb69ebcd5b4",
   "metadata": {
    "tags": []
   },
   "outputs": [],
   "source": [
    "# Adding codes of leading species under canfi_species in the yldmerged\n",
    "for index, row in yldmerged.iterrows():\n",
    "    yldmerged.at[index,'canfi_species'] = canf.loc[row['LDSPP'],'canfi_species']  "
   ]
  },
  {
   "cell_type": "code",
   "execution_count": 14,
   "id": "03f77257-ab80-4178-bc2f-37218b1c5b08",
   "metadata": {
    "tags": []
   },
   "outputs": [],
   "source": [
    "# once the modifications are done, the yldmerged table is converted into csv file in a directory path defined by the user. Later, this file will be used to read curve_points_table\n",
    "output_csv_path = 'data/yldmerged.csv'\n",
    "yldmerged.to_csv(output_csv_path, header=True, index=False)"
   ]
  },
  {
   "cell_type": "markdown",
   "id": "82407763-fd90-4775-92e6-12c532020d5d",
   "metadata": {},
   "source": [
    "##### End of modification "
   ]
  },
  {
   "cell_type": "code",
   "execution_count": 15,
   "id": "955ccc71-3312-4866-88bf-f705bab1bcc4",
   "metadata": {
    "tags": []
   },
   "outputs": [],
   "source": [
    "# converting stands to csv file, and reading stands_table from the csv file\n",
    "output_stand_csv_path = 'data/stands_table.csv'\n",
    "stands_table = stands.to_csv(output_stand_csv_path, header=True, index=False)\n",
    "stands_table = pd.read_csv('data/stands_table.csv')\n"
   ]
  },
  {
   "cell_type": "code",
   "execution_count": 16,
   "id": "33f320b9-71a0-47d6-b0bc-8c4efb9912e6",
   "metadata": {
    "tags": []
   },
   "outputs": [],
   "source": [
    "# replacing leading species names with their codes\n",
    "for index, row in stands_table.iterrows():\n",
    "    stands_table.at[index,'theme5'] = canf.loc[row['theme3'],'canfi_species']\n",
    "stands_table['theme3'] = stands_table['theme5']\n",
    "stands_table = stands_table.drop('theme5',axis=1)"
   ]
  },
  {
   "cell_type": "code",
   "execution_count": 17,
   "id": "2bae10e9-ed8d-46c1-9a54-5f33a82e8fe4",
   "metadata": {},
   "outputs": [],
   "source": [
    "stands_table['theme3'] = stands_table['theme3'] .astype(int)"
   ]
  },
  {
   "cell_type": "code",
   "execution_count": 18,
   "id": "4d3b3e0e",
   "metadata": {
    "tags": []
   },
   "outputs": [],
   "source": [
    "# Reading curve_points_table\n",
    "curve_points_table = pd.read_csv('data/yldmerged.csv')"
   ]
  },
  {
   "cell_type": "code",
   "execution_count": 19,
   "id": "08d69761",
   "metadata": {
    "tags": []
   },
   "outputs": [],
   "source": [
    "# Adding 'curve_id' and 'canfi_species' columns to curve_points_table\n",
    "curve_points_table ['curve_id'] = curve_points_table ['AU'] \n",
    "curve_points_table ['canfi_species'] = yldmerged ['canfi_species']"
   ]
  },
  {
   "cell_type": "code",
   "execution_count": 20,
   "id": "e8e036b4-9db8-4248-a272-44c548be8478",
   "metadata": {
    "tags": []
   },
   "outputs": [],
   "source": [
    "# converting curve_points_table to csv file\n",
    "output_curve_points_csv_path = 'data/curve_points_table.csv'\n",
    "curve_points_table.to_csv(output_curve_points_csv_path, header=True, index=False)"
   ]
  },
  {
   "cell_type": "code",
   "execution_count": 21,
   "id": "b59ffc74-c1a5-4f24-b04e-0eb1cf39b173",
   "metadata": {
    "tags": []
   },
   "outputs": [],
   "source": [
    "# Reading curve_points_table from the csv file and settign AU as the index\n",
    "columns_to_index_yld = ['AU']\n",
    "curve_points_table = pd.read_csv('data/curve_points_table.csv').set_index(columns_to_index_yld)"
   ]
  },
  {
   "cell_type": "code",
   "execution_count": 22,
   "id": "ab8c1954-2247-4bb0-bc1f-683afa57e801",
   "metadata": {
    "tags": []
   },
   "outputs": [],
   "source": [
    "# Setting up themes\n",
    "theme_cols=['theme0', # TSA \n",
    "            'theme1', # THLB\n",
    "            'theme2', # AU\n",
    "            'theme3', # leading species code\n",
    "            'theme4'  # yield curve ID\n",
    "           ]\n",
    "basecodes = [list(map(lambda x: str(x), stands_table[tc].unique())) for tc in theme_cols]"
   ]
  },
  {
   "cell_type": "code",
   "execution_count": 23,
   "id": "9de0fe42-d85c-44bf-ad67-1e9cec2ea543",
   "metadata": {
    "tags": []
   },
   "outputs": [],
   "source": [
    "# also scrape au_table for AU and curve ID values that are not in inventory but might pop up later (hack?)\n",
    "basecodes[2] = list(set(basecodes[2] + list(stands_table['theme2'].astype(str))))\n",
    "basecodes[3] = list(set(basecodes[3] + list(stands_table['theme3'].astype(str))))\n",
    "basecodes[4] = list(set(basecodes[4] + list(stands_table['theme4'].astype(str))))"
   ]
  },
  {
   "cell_type": "code",
   "execution_count": 24,
   "id": "1886a924-f740-4410-8162-e606276c904d",
   "metadata": {
    "tags": []
   },
   "outputs": [],
   "source": [
    "# Building the forest model\n",
    "fm = ws3.forest.ForestModel(model_name='tsa22',\n",
    "                            model_path='data',\n",
    "                            base_year=base_year,\n",
    "                            horizon=horizon,\n",
    "                            period_length=period_length,\n",
    "                            max_age=max_age)"
   ]
  },
  {
   "cell_type": "code",
   "execution_count": 25,
   "id": "3440c753-6cf9-4b3b-a7f3-e71db3c77f61",
   "metadata": {
    "tags": []
   },
   "outputs": [],
   "source": [
    "# Set up themes\n",
    "for ti, t in enumerate(theme_cols):\n",
    "    fm.add_theme(t, basecodes[ti])\n",
    "# fm.nthemes = len(theme_cols)"
   ]
  },
  {
   "cell_type": "code",
   "execution_count": 26,
   "id": "6134fad6-c4a8-459c-99fa-72cf8a75e17c",
   "metadata": {},
   "outputs": [],
   "source": [
    "# Aggregating inventory data\n",
    "gstands = stands_table.groupby(theme_cols+['age'])"
   ]
  },
  {
   "cell_type": "code",
   "execution_count": 27,
   "id": "3c7b496a-682b-470b-8887-5d689d03d031",
   "metadata": {
    "tags": []
   },
   "outputs": [],
   "source": [
    "# Loading areas from inventory\n",
    "age_cutoff = 600\n",
    "\n",
    "for name, group in gstands:\n",
    "    dtk, age, area = tuple(map(lambda x: str(x), name[:-1])), int(name[-1]), group['area'].sum()\n",
    "    if dtk not in fm.dtypes:\n",
    "        fm.dtypes[dtk] = ws3.forest.DevelopmentType(dtk, fm)\n",
    "    age = age if age < age_cutoff else age_cutoff\n",
    "    fm.dtypes[dtk].area(0, age, area)\n",
    "    # fm.dtypes[dtk].last_pass_disturbance = 'fire' if age > 60 else 'harvest'"
   ]
  },
  {
   "cell_type": "code",
   "execution_count": 28,
   "id": "fc78b354-7fe4-4b7b-a812-3bf5583e94ff",
   "metadata": {
    "tags": []
   },
   "outputs": [],
   "source": [
    "# Reading points_table which was created in csv file in order to convert to a 2-column table (x,y)\n",
    "points_table = pd.read_csv('data/points_table.csv').set_index('AU')"
   ]
  },
  {
   "cell_type": "code",
   "execution_count": 29,
   "id": "cd36bbeb-1519-41de-9732-351773f7e286",
   "metadata": {},
   "outputs": [],
   "source": [
    "# Reading and registering curve points\n",
    "for AU, au_row in curve_points_table.iterrows():\n",
    "    yname = 's%04d' % int(au_row.canfi_species)    \n",
    "    curve_id = au_row.curve_id\n",
    "    mask = ('?', '?', str(AU), '?', str(curve_id))\n",
    "    points = [(r.x, r.y) for _, r in points_table.loc[AU].iterrows() if not r.x % period_length and r.x <= max_age]    \n",
    "    c = fm.register_curve(ws3.core.Curve(yname, points=points, type='a', is_volume=True, xmax=fm.max_age, period_length=period_length))\n",
    "    fm.yields.append((mask, 'a', [(yname, c)])) # only if not already present?\n",
    "    fm.ynames.add(yname)        \n",
    "    for dtk in fm.unmask(mask): \n",
    "        fm.dtypes[dtk].add_ycomp('a', yname, c)"
   ]
  },
  {
   "cell_type": "code",
   "execution_count": 30,
   "id": "1b87f15b-9ad1-4115-a483-452203061b02",
   "metadata": {
    "tags": []
   },
   "outputs": [],
   "source": [
    "# Add total volume curves\n",
    "expr = '_SUM(%s)' % ', '.join(fm.ynames)\n",
    "fm.yields.append((('?', '?', '?', '?', '?'), 'c', [(tvy_name, expr)]))\n",
    "fm.ynames.add(tvy_name)\n",
    "for dtk in fm.dtypes.keys(): fm.dtypes[dtk].add_ycomp('c', tvy_name, expr)  "
   ]
  },
  {
   "cell_type": "code",
   "execution_count": 31,
   "id": "65dc5404-0cae-487e-9159-0db3859420a3",
   "metadata": {
    "tags": []
   },
   "outputs": [],
   "source": [
    "# Setting up an action\n",
    "acode = 'fire'\n",
    "oe = '_age >= 50 and _age <= 600' # operability expression\n",
    "fm.transitions[acode] = {}\n",
    "for au_id, au_row in stands_table.iterrows():\n",
    "    # if not au_row.theme1: continue\n",
    "    target_curve_id = au_row.theme4  \n",
    "    smask = ('?', '?' , str (target_curve_id), '?', '?')\n",
    "    tmask = ('?', '?' , '?', '?', str(target_curve_id) ) \n",
    "    target = [(tmask, 1.0, None, None, None, None, None)] # list of one (single target... not modelling \"divergent\" transitions)\n",
    "    fm.actions[acode] = ws3.forest.Action(acode, targetage=0, is_harvest=False)\n",
    "    fm.oper_expr[acode] = {smask:oe}        \n",
    "    fm.transitions[acode].update({smask:{'':target}}) # the '' is a blank source condition expression\n",
    "    for dtk in fm.unmask(smask):\n",
    "        dt = fm.dtypes[dtk]\n",
    "        dt.oper_expr[acode] = [oe]\n",
    "        for age in range(1, fm.max_age):\n",
    "            if not dt.is_operable(acode, 1, age): continue          \n",
    "            fm.dtypes[dtk].transitions[acode, age] = target"
   ]
  },
  {
   "cell_type": "code",
   "execution_count": 32,
   "id": "6723b32b-b19d-4780-af8c-c427fc67ea82",
   "metadata": {
    "tags": []
   },
   "outputs": [],
   "source": [
    "fm.compile_actions()"
   ]
  },
  {
   "cell_type": "markdown",
   "id": "8e30d751-a296-4983-ad38-da32d3d6e035",
   "metadata": {},
   "source": [
    "# Poking around the model"
   ]
  },
  {
   "cell_type": "code",
   "execution_count": 33,
   "id": "2f469ddf-3b95-4152-a3a2-84926fd44192",
   "metadata": {},
   "outputs": [
    {
     "data": {
      "text/plain": [
       "(0.0, 350.0)"
      ]
     },
     "execution_count": 33,
     "metadata": {},
     "output_type": "execute_result"
    },
    {
     "data": {
      "image/png": "[encoded data removed]",
      "text/plain": [
       "<Figure size 800x1200 with 3 Axes>"
      ]
     },
     "metadata": {},
     "output_type": "display_data"
    }
   ],
   "source": [
    "fig, ax = plt.subplots(3, 1, figsize=(8, 12), sharex=True)\n",
    "\n",
    "cvol = c\n",
    "ccai = c.cai()\n",
    "cmai = c.mai()\n",
    "cmaiytp = c.mai().ytp()\n",
    "x_cmai = cmaiytp.lookup(0) # optimal rotation age (i.e., culmination of MAI curve)\n",
    "labels = 'total volume', 'MAI (and CAI)', 'MAI YTP'\n",
    "\n",
    "ax[0].plot(*zip(*c.points()))\n",
    "ax[0].plot([0, x_cmai], [0., cvol[x_cmai]], linestyle='--', color='green')\n",
    "\n",
    "ax[1].plot(*zip(*c.mai().points()))\n",
    "ax[1].plot(*zip(*c.cai().points()), linestyle=':')\n",
    "\n",
    "ax[2].plot(*zip(*c.mai().ytp().points()))\n",
    "ax[2].axhline(0, color='black')\n",
    "\n",
    "for i in range(len(ax)):\n",
    "    ax[i].set_ylabel(labels[i])\n",
    "    ax[i].set_ylim(0, None)\n",
    "    ax[i].axvline(x_cmai, color='red')\n",
    "plt.xlim(0, 350)"
   ]
  },
  {
   "cell_type": "code",
   "execution_count": 34,
   "id": "b9dd4281-f4da-47ac-8cc2-f9a17122ec9f",
   "metadata": {},
   "outputs": [
    {
     "data": {
      "image/png": "[encoded data removed]",
      "text/plain": [
       "<Figure size 640x480 with 1 Axes>"
      ]
     },
     "metadata": {},
     "output_type": "display_data"
    }
   ],
   "source": [
    "import matplotlib.pyplot as plt\n",
    "import numpy as np\n",
    "\n",
    "# Assuming fm.age_class_distribution(0) returns a dictionary or two lists (x and y)\n",
    "data = fm.age_class_distribution(0)\n",
    "\n",
    "# Extracting x and y values\n",
    "x_values = list(data.keys())\n",
    "y_values = list(data.values()) \n",
    "\n",
    "# Define custom bin edges\n",
    "bin_edges = np.arange(0, 480, 20)\n",
    "\n",
    "# Create a histogram using numpy.histogram()\n",
    "hist, _ = np.histogram(x_values, bins=bin_edges, weights=y_values)\n",
    "\n",
    "# Plot the histogram\n",
    "plt.bar(bin_edges[:-1], hist, width=20, color='blue', edgecolor='black', alpha=0.7)\n",
    "\n",
    "# Add labels and title\n",
    "plt.xlabel('Age')\n",
    "plt.ylabel('Area (ha)')\n",
    "plt.title('Age Distribution')\n",
    "\n",
    "# Show the plot\n",
    "plt.show()\n"
   ]
  },
  {
   "cell_type": "markdown",
   "id": "26c2edbe-51a8-4355-a1ba-b52f10fc9505",
   "metadata": {
    "tags": []
   },
   "source": [
    "# Implement a priority queue harvest scheduling heuristic\n"
   ]
  },
  {
   "cell_type": "code",
   "execution_count": 35,
   "id": "5afb9ed3-517e-4d06-84a0-f5624e057f1f",
   "metadata": {
    "tags": []
   },
   "outputs": [],
   "source": [
    "fm.reset()"
   ]
  },
  {
   "cell_type": "code",
   "execution_count": 36,
   "id": "bff9490a-f249-4cd7-9bdb-f5bba872dcf1",
   "metadata": {},
   "outputs": [],
   "source": [
    "fm.areaselector = RandomAreaSelector(fm)"
   ]
  },
  {
   "cell_type": "code",
   "execution_count": 37,
   "id": "941c4109-b61e-4bf4-b8fa-631c91da34b9",
   "metadata": {
    "scrolled": true,
    "tags": []
   },
   "outputs": [],
   "source": [
    "verbose = False # flip to True if you want the harvest scheduler to get _really_ chatty while it works\n",
    "for period in fm.periods:\n",
    "    schedule_fire_areacontrol(fm, period=period, verbose=verbose, intensity = intensity ) #Equivalent Scenario"
   ]
  },
  {
   "cell_type": "code",
   "execution_count": 38,
   "id": "7d9ab4bb-bf78-4eec-9323-94964087e57c",
   "metadata": {},
   "outputs": [
    {
     "data": {
      "text/plain": [
       "(<Figure size 1200x400 with 3 Axes>,\n",
       " array([<Axes: title={'center': 'Burned area (ha)'}>,\n",
       "        <Axes: title={'center': 'Burned volume (m3)'}>,\n",
       "        <Axes: title={'center': 'Growing Stock (m3)'}>], dtype=object))"
      ]
     },
     "execution_count": 38,
     "metadata": {},
     "output_type": "execute_result"
    },
    {
     "data": {
      "image/png": "[encoded data removed]",
      "text/plain": [
       "<Figure size 1200x400 with 3 Axes>"
      ]
     },
     "metadata": {},
     "output_type": "display_data"
    }
   ],
   "source": [
    "df = compile_scenario(fm)\n",
    "plot_scenario(df)\n",
    "# plot_results(fm)"
   ]
  },
  {
   "cell_type": "code",
   "execution_count": 39,
   "id": "e7f7c3d1-7465-401a-8926-cdf4b1497d57",
   "metadata": {},
   "outputs": [],
   "source": [
    "pareas = [fm.compile_product(period, '1.') for period in fm.periods]"
   ]
  },
  {
   "cell_type": "code",
   "execution_count": 40,
   "id": "acc0cd61-9deb-42b6-8326-5fb92f8e0f53",
   "metadata": {},
   "outputs": [],
   "source": [
    "pvols = [fm.compile_product(period, 'totvol') for period in fm.periods]"
   ]
  },
  {
   "cell_type": "code",
   "execution_count": 41,
   "id": "9d5b2176-4d0d-4a17-902a-fc9bb89df4b2",
   "metadata": {},
   "outputs": [],
   "source": [
    "df = pd.DataFrame({'period':fm.periods, 'areas':pareas, 'vols':pvols})"
   ]
  },
  {
   "cell_type": "code",
   "execution_count": 42,
   "id": "e62e978b-309b-422d-920e-c4c6cada72cb",
   "metadata": {},
   "outputs": [
    {
     "name": "stdout",
     "output_type": "stream",
     "text": [
      "mkdir: cannot create directory ‘data/woodstock_model_files’: File exists\n"
     ]
    }
   ],
   "source": [
    "!mkdir data/woodstock_model_files"
   ]
  },
  {
   "cell_type": "markdown",
   "id": "c6ad0fa2",
   "metadata": {},
   "source": [
    "# LANDSCAPE section"
   ]
  },
  {
   "cell_type": "code",
   "execution_count": 43,
   "id": "bdd895e4-aa16-4888-8b14-26d12860e7f1",
   "metadata": {},
   "outputs": [],
   "source": [
    "with open('data/woodstock_model_files/tsa22.lan', 'w') as file:\n",
    "    print('*THEME Timber Supply Area (TSA)',file=file)\n",
    "    print('tsa22',file=file)\n",
    "    print('*THEME Timber Harvesting Land Base (THLB)',file=file)\n",
    "    for w in fm._theme_basecodes[1]: print(w,file=file)\n",
    "    print('*THEME Analysis Unit (AU)',file=file)\n",
    "    for x in fm._theme_basecodes[2]: print(x,file=file)\n",
    "    print('*THEME Leading tree species (CANFI species code)',file=file)\n",
    "    for y in fm._theme_basecodes[3]: print(y,file=file)\n",
    "    print('*THEME Yield curve ID',file=file)\n",
    "    for z in fm._theme_basecodes[4]: print(z,file=file)"
   ]
  },
  {
   "cell_type": "markdown",
   "id": "2dea88ce",
   "metadata": {},
   "source": [
    "# AREAS section"
   ]
  },
  {
   "cell_type": "code",
   "execution_count": 44,
   "id": "c9e0d53f-6e0c-4e7d-8a87-e8f6b338991b",
   "metadata": {
    "scrolled": true
   },
   "outputs": [],
   "source": [
    "with open('data/woodstock_model_files/tsa22.are', 'w') as f:\n",
    "    for name, group in gstands:\n",
    "        dtk, age, area = tuple(map(lambda x: str(x), name[:-1])), int(name[-1]), group['area'].sum()\n",
    "        print('*A', ' '.join(v for v in dtk), age, area, file=f)"
   ]
  },
  {
   "cell_type": "markdown",
   "id": "0aaef33f",
   "metadata": {},
   "source": [
    "# `YIELDS` section"
   ]
  },
  {
   "cell_type": "code",
   "execution_count": 45,
   "id": "7ee43eb5-937f-4ff2-a2ce-43abf0dcc20e",
   "metadata": {},
   "outputs": [],
   "source": [
    "with open('data/woodstock_model_files/tsa22.yld', 'w') as file:\n",
    "        tot=[]\n",
    "        swd=[]\n",
    "        hwd=[]\n",
    "        for AU, au_row in curve_points_table.iterrows():\n",
    "            \n",
    "            yname = 's%04d' % int(au_row.canfi_species)    \n",
    "            curve_id = au_row.curve_id\n",
    "            mask = ('?', '?', str(AU), '?', str(curve_id))\n",
    "            points = [(r.x, r.y) for _, r in points_table.loc[AU].iterrows() if not r.x % period_length and r.x <= max_age]    \n",
    "            c = fm.register_curve(ws3.core.Curve(yname, points=points, type='a', is_volume=True, xmax=fm.max_age, period_length=period_length))\n",
    "            print('*Y', ' '.join(v for v in mask), file=file)\n",
    "            print(yname, '1', ' '.join(str(int(c[x])) for x in range(0, 350, 10)), file=file)\n",
    "            if yname not in tot:\n",
    "                tot.append(yname)\n",
    "            if int(au_row.canfi_species) >1200:\n",
    "                if yname not in hwd:\n",
    "                    hwd.append(yname)\n",
    "            else:\n",
    "                if yname not in swd:\n",
    "                    swd.append(yname)\n",
    "        print('*YC ? ? ? ? ?',file=file)\n",
    "        print('totvol _SUM(%s)'%', '.join(map(str, tot)),file=file)\n",
    "        print('swdvol _SUM(%s)'%', '.join(map(str, swd)),file=file)\n",
    "        print('hwdvol _SUM(%s)'%', '.join(map(str, hwd)),file=file)\n"
   ]
  },
  {
   "cell_type": "markdown",
   "id": "d08f5411",
   "metadata": {},
   "source": [
    "# `ACTIONS` section"
   ]
  },
  {
   "cell_type": "code",
   "execution_count": 46,
   "id": "5215676b-de16-4f21-a579-72699cc4f9e8",
   "metadata": {},
   "outputs": [],
   "source": [
    "with open('data/woodstock_model_files/tsa22.act', 'w') as file:\n",
    "    print('ACTIONS', file=file)\n",
    "    print('*ACTION fire Y', file=file)\n",
    "    print('*OPERABLE fire', file=file)\n",
    "    print('? ? ? ? ? _AGE >= 50 AND _AGE <= 600', file=file)"
   ]
  },
  {
   "cell_type": "markdown",
   "id": "6aa5e74f",
   "metadata": {},
   "source": [
    "# `TRANSITIONS` section"
   ]
  },
  {
   "cell_type": "code",
   "execution_count": 47,
   "id": "cd5ac14e-0990-4472-ba96-3013e446913d",
   "metadata": {},
   "outputs": [],
   "source": [
    "# Setting up an action\n",
    "with open('data/woodstock_model_files/tsa22.trn', 'w') as file:\n",
    "    acode = 'fire'\n",
    "    print('*CASE', acode, file=file)\n",
    "    record_au = set()\n",
    "    for au_id, au_row in stands_table.iterrows():\n",
    "        if au_row.theme2 in record_au: continue\n",
    "        # if not au_row.theme1: continue\n",
    "        target_curve_id = au_row.theme4  \n",
    "        smask = ' '.join(('?', '?' , str (target_curve_id), '?', '?'))\n",
    "        tmask = ' '.join(('?', '?' , '?', '?', str(target_curve_id)))\n",
    "        print('*SOURCE', smask, file=file)\n",
    "        print('*TARGET', tmask, '100', file=file)\n",
    "        record_au.add(au_row.theme2)"
   ]
  }
 ],
 "metadata": {
  "kernelspec": {
   "display_name": "venv",
   "language": "python",
   "name": "venv"
  },
  "language_info": {
   "codemirror_mode": {
    "name": "ipython",
    "version": 3
   },
   "file_extension": ".py",
   "mimetype": "text/x-python",
   "name": "python",
   "nbconvert_exporter": "python",
   "pygments_lexer": "ipython3",
   "version": "3.10.12"
  }
 },
 "nbformat": 4,
 "nbformat_minor": 5
}
